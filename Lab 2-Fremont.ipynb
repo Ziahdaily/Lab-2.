{
 "cells": [
  {
   "cell_type": "markdown",
   "metadata": {},
   "source": [
    "# Analysis of fremont bridge data\n",
    "\n",
    "Ziah D.\n",
    "\n",
    "10/17/19"
   ]
  },
  {
   "cell_type": "markdown",
   "metadata": {},
   "source": [
    "## Abstract"
   ]
  },
  {
   "cell_type": "markdown",
   "metadata": {},
   "source": [
    "\n",
    "For this lab I am taking the number of people that crossed the West sidewalk and the number of people that crossed the East sidewalk and then finding the Mean, median, and average of the data. Afterwards I am Reflecting on my discoveries and asking questions that were raised."
   ]
  },
  {
   "cell_type": "markdown",
   "metadata": {},
   "source": [
    "## Dataset Preparation"
   ]
  },
  {
   "cell_type": "markdown",
   "metadata": {},
   "source": [
    "I got this file from Ms. Sconyers. This dataset has a total of 31 rows and 3 columns that orignally came from a dataset, measuring hourly bicycle data. Then the data was processed to produce daily bike data. The original data was from https://data.seattle.gov/Transportation/Fremont-Bridge-Hourly-Bicycle-Counts-by-Month-Octo/65db-xm6k.\n",
    "\n",
    "I am writing the code below becuase I want to anlayze the data given about the amount of people that crossed the the Fremont Bridge West Sidewalk and the Fremont Bridge East Sidewalk. The first line of code allows me to open the code on jupyter notebook. One reason why I added the encoding part in the code is to make sure I read the filing correctly. The second line  creates an empty list to store data from the file that we opened on the Fremont bridge data .The third line of code is putting all lines from the file into a list. The fourth line of data is closing the Bridge file, closing the file is a corteous and clean thing to do. The last line is a representation of what the first 5 rows of code look like, giving people an idea of what it looks like.\n"
   ]
  },
  {
   "cell_type": "markdown",
   "metadata": {},
   "source": [
    "The code block below opens a cvs file with data that we then copy into a list. Lastly, we print some rows of data so that people reading the code can get a sense of waht it looks like and so that we can make sure that the list is working."
   ]
  },
  {
   "cell_type": "code",
   "execution_count": 31,
   "metadata": {
    "collapsed": false
   },
   "outputs": [
    {
     "name": "stdout",
     "output_type": "stream",
     "text": [
      "['Date,Fremont Bridge West Sidewalk,Fremont Bridge East Sidewalk\\n', '9/1/15,1393,1483\\n', '9/2/15,1745,1867\\n', '9/3/15,1532,1627\\n', '9/4/15,1425,1512\\n']\n"
     ]
    }
   ],
   "source": [
    "#list of number of people that walked across the west and east sidewalk\n",
    "\n",
    "#open the file\n",
    "Fremont_file = open(\"Fremont_bridge_data (1).csv\", \"r\", encoding = \"ISO-8859-1\");\n",
    "\n",
    "#create an empty list to store the data from the csv file\n",
    "Fremont_data = []; \n",
    "\n",
    "#put all lines from the file into a list\n",
    "for row in Fremont_file:\n",
    "    Fremont_data.append(row);\n",
    "    \n",
    "#close the file. It's the courteous and clean thing to do\n",
    "Fremont_file.close();\n",
    "\n",
    "#this is what five rows of the data look like-helps give people an idea of what it looks like\n",
    "print(Fremont_data[:5]);\n",
    "\n"
   ]
  },
  {
   "cell_type": "markdown",
   "metadata": {},
   "source": [
    "The list above represents the first five rows in the file communities_data. I printed the first five rows in order to let people know what the data looks like."
   ]
  },
  {
   "cell_type": "markdown",
   "metadata": {},
   "source": [
    "In the section below I am creating two empty lists, and then deleting the first row , which consists of headers. Next, I take the data and split it based off of where the commas are. Lastly, I count like a data scinetist, 0,1,2 in order to pick the right collumn of data. I'm taking all of the of the information in the 2nd collumn and turning it into an integer, then adding it to the Number_of_West_People list. And, i'm taking all of the information from  the 3rd collumn and turning it into an integer, and then adding it to the Number_of_East_People list."
   ]
  },
  {
   "cell_type": "code",
   "execution_count": 32,
   "metadata": {
    "collapsed": false
   },
   "outputs": [],
   "source": [
    "#remove the first element (column header)\n",
    "# the header is useful for telling us what the columns mean, \n",
    "# but you don't want to include it in your mathematical calculations\n",
    "del Fremont_data[0];\n",
    "\n",
    "# create two empty lists for number of people that go across on the east and westside of the fremont bridge.\n",
    "Number_of_East_People = []; \n",
    "Number_of_West_People = [];\n",
    "\n",
    "\n",
    "# loop (go through every row one by one) through the original fremont bridge data\n",
    "for item in range(len(Fremont_data)):\n",
    "    \n",
    "    # this line is a bit confusing, but what it is doing is splitting out each comma separated item \n",
    "    # from a row and turning it into a list \n",
    "    # for example, this line of code turns he single string '9/1/15,1393,1483\\n' \n",
    "    # into three separate strings '9/1/15' '1393' and '1483'\n",
    "    # After being split, the three separate strings are then stored in another list called Fremont_row\n",
    "    Fremont_row = Fremont_data[item].split(\",\")\n",
    "    \n",
    "    #now that we've split the row into its three parts, we can pick and choose \n",
    "    Number_of_West_People.append(int(Fremont_row[1]))\n",
    "    \n",
    "    Number_of_East_People.append(int(Fremont_row[2]))\n",
    "    "
   ]
  },
  {
   "cell_type": "markdown",
   "metadata": {},
   "source": [
    "## Data Modeling"
   ]
  },
  {
   "cell_type": "markdown",
   "metadata": {},
   "source": [
    "Now that we have these lists I am able to do calculations on the minimum,maximum, average, and median on the number of bikes crossing on a daily basis for October, 2012. I am doing these calculations because I want to find those numbers so that I can reflect on the results."
   ]
  },
  {
   "cell_type": "code",
   "execution_count": 33,
   "metadata": {
    "collapsed": false
   },
   "outputs": [
    {
     "name": "stdout",
     "output_type": "stream",
     "text": [
      "minimum number of people going east:\n",
      "425\n",
      "maximum number of people going east:\n",
      "2361\n",
      "average number of people going east:\n",
      "1540.4333333333334\n",
      "median number of all people going east:\n",
      "1648.0\n",
      "minimum number of people going west:\n",
      "466\n",
      "maximum number of people going west:\n",
      "2270\n",
      "average number of people going west:\n",
      "1497.5666666666666\n",
      "median number of all people going:\n",
      "1573.5\n"
     ]
    }
   ],
   "source": [
    "#create variables for the minimum, maximum, average, and median.\n",
    "\n",
    "#max, min, average, median ,and desriptions\n",
    "\n",
    "#Using import statistics which has a code that finds the mean and median\n",
    "\n",
    "import statistics\n",
    "\n",
    "#creating varibales for certain for mathmatical calculations including finding the Minimum, maximim, mean, and median for east data\n",
    "Eastnumbmin = min(Number_of_East_People)\n",
    "\n",
    "Eastnumbmax = max(Number_of_East_People)\n",
    "\n",
    "Eastnumbavg = statistics.mean(Number_of_East_People)\n",
    "\n",
    "Eastnumbmed = statistics.median(Number_of_East_People)\n",
    "\n",
    "\n",
    "#creating varibales for certain for mathmatical calculations including finding the Minimum, maximim, mean, and median for west data.\n",
    "Westnumbmin = min(Number_of_West_People)\n",
    "\n",
    "Westnumbmax = max(Number_of_West_People)\n",
    "\n",
    "Westnumbavg = statistics.mean(Number_of_West_People)\n",
    "\n",
    "Westnumbmed = statistics.median(Number_of_West_People)\n",
    "\n",
    "\n",
    "\n",
    "\n",
    "\n",
    "#print all the data for both east and west, and their titles\n",
    "\n",
    "print(\"minimum number of people going east:\")\n",
    "print(Eastnumbmin)\n",
    "print(\"maximum number of people going east:\")\n",
    "print(Eastnumbmax)\n",
    "print(\"average number of people going east:\")\n",
    "print(Eastnumbavg)\n",
    "print(\"median number of all people going east:\")\n",
    "print(Eastnumbmed)\n",
    "\n",
    "\n",
    "print(\"minimum number of people going west:\")\n",
    "print(Westnumbmin)\n",
    "print(\"maximum number of people going west:\")\n",
    "print(Westnumbmax)\n",
    "print(\"average number of people going west:\")\n",
    "print(Westnumbavg)\n",
    "print(\"median number of all people going:\")\n",
    "print(Westnumbmed)\n"
   ]
  },
  {
   "cell_type": "raw",
   "metadata": {},
   "source": [
    "## Data Analysis and Conclusion"
   ]
  },
  {
   "cell_type": "markdown",
   "metadata": {},
   "source": [
    "### conclusions:\n",
    "The minimum number that I got for the dataset on the amount of bikers that went across the fremont bridge is 425 people, going east, and 466 going west. Since I have a fairly small dataset, I am able to look back on the exact date both of those numbers came from. It looks like both of those numbers came from the september 6th. I looked up online what day of this week this day was and it said it was a sunday. This raises numerous questions which will be shown below. Additionally I can conclude that on this particular day there was less bike traffic on the fremont bridge. Additionally, I found that the maxmum number of bikers crossing the bridge,unlike the minimum were on seperate days. The maximum number of bikers going East was the day before the maximum number of bikers going west. The last numbers that I found was important was the median and average number of bikers going west and east. I found that the average number of bikers going west is around 1497 and the average number going east is around 1540. Knowing this allows me to conclude that on average there were more bikers going east. Lastly, I found the median numbers for the bikers were less important, but the numbers were, 1648 people going going east and around 1573 going west.\n",
    "\n",
    "### questions raised:\n",
    "\n",
    "The minimum number of bikes that crossed on either side was on a Sunday, what is special about sunday?\n",
    "\n",
    "Was the bridge shut down at one point for that day/ or was the number just really small that day?\n",
    "\n",
    "Was there any construction throughout the collection data?\n",
    "\n",
    "\n"
   ]
  },
  {
   "cell_type": "markdown",
   "metadata": {},
   "source": [
    "## Acknowledgements"
   ]
  },
  {
   "cell_type": "markdown",
   "metadata": {},
   "source": [
    "For the second lab on the analysis of the fremont bike data I got assistance from Ms. Sconyers and Navya."
   ]
  }
 ],
 "metadata": {
  "anaconda-cloud": {},
  "kernelspec": {
   "display_name": "Python [default]",
   "language": "python",
   "name": "python3"
  },
  "language_info": {
   "codemirror_mode": {
    "name": "ipython",
    "version": 3
   },
   "file_extension": ".py",
   "mimetype": "text/x-python",
   "name": "python",
   "nbconvert_exporter": "python",
   "pygments_lexer": "ipython3",
   "version": "3.5.2"
  }
 },
 "nbformat": 4,
 "nbformat_minor": 1
}
